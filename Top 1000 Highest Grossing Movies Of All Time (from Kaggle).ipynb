{
 "cells": [
  {
   "cell_type": "markdown",
   "id": "23e993d6",
   "metadata": {},
   "source": [
    "### Суть проєкту та датасет"
   ]
  },
  {
   "cell_type": "markdown",
   "id": "3e0e4476",
   "metadata": {},
   "source": [
    "Проєкт має допомогти зрозуміти роботу новою фічі Open AI: Code Interpreter. Всі ідеї для дослідження, код та візуалізація згенерований ChatGPT."
   ]
  },
  {
   "cell_type": "markdown",
   "id": "07ae1fb9",
   "metadata": {},
   "source": [
    "Датасет взятий звідси: https://www.kaggle.com/datasets/therealoise/top-1000-highest-grossing-movies-of-all-time.\n",
    "\n",
    "`Movie Title`: The name of the movie.\n",
    "\n",
    "`Year of Release`: The year the movie was released.\n",
    "\n",
    "`Genre`: Categories where the movie belongs.\n",
    "\n",
    "`Movie Rating`: Ratings given by IMDb registered users (on a scale of 1 to 10)\n",
    "\n",
    "`Duration`: Movie running time in minutes.\n",
    "\n",
    "`Gross`: Gross earnings in U.S. dollars.\n",
    "\n",
    "`Worldwide LT Gross`: Worldwide Lifetime Gross (International + Domestic totals.\n",
    "\n",
    "`Metascore`: Weighted average of many reviews coming from reputed critics (on a scale of 0 to 100)\n",
    "\n",
    "`Votes`: Number of votes cast by IMDb registered users.\n",
    "\n",
    "`Logline`: A one or two sentence summary of the film."
   ]
  },
  {
   "cell_type": "markdown",
   "id": "94cc2b2e",
   "metadata": {},
   "source": [
    "### Завантаження даних та ідеї для аналізу."
   ]
  },
  {
   "cell_type": "code",
   "execution_count": 6,
   "id": "db8079a6",
   "metadata": {},
   "outputs": [],
   "source": [
    "import pandas as pd"
   ]
  },
  {
   "cell_type": "code",
   "execution_count": 5,
   "id": "d4aca795",
   "metadata": {},
   "outputs": [
    {
     "data": {
      "text/html": [
       "<div>\n",
       "<style scoped>\n",
       "    .dataframe tbody tr th:only-of-type {\n",
       "        vertical-align: middle;\n",
       "    }\n",
       "\n",
       "    .dataframe tbody tr th {\n",
       "        vertical-align: top;\n",
       "    }\n",
       "\n",
       "    .dataframe thead th {\n",
       "        text-align: right;\n",
       "    }\n",
       "</style>\n",
       "<table border=\"1\" class=\"dataframe\">\n",
       "  <thead>\n",
       "    <tr style=\"text-align: right;\">\n",
       "      <th></th>\n",
       "      <th>Movie Title</th>\n",
       "      <th>Year of Realease</th>\n",
       "      <th>Genre</th>\n",
       "      <th>Movie Rating</th>\n",
       "      <th>Duration</th>\n",
       "      <th>Gross</th>\n",
       "      <th>Worldwide LT Gross</th>\n",
       "      <th>Metascore</th>\n",
       "      <th>Votes</th>\n",
       "      <th>Logline</th>\n",
       "    </tr>\n",
       "  </thead>\n",
       "  <tbody>\n",
       "    <tr>\n",
       "      <th>0</th>\n",
       "      <td>Avatar</td>\n",
       "      <td>2009</td>\n",
       "      <td>Action,Adventure,Fantasy</td>\n",
       "      <td>7.8</td>\n",
       "      <td>162</td>\n",
       "      <td>$760.51M</td>\n",
       "      <td>$2,847,397,339</td>\n",
       "      <td>83</td>\n",
       "      <td>1,236,962</td>\n",
       "      <td>A paraplegic Marine dispatched to the moon Pan...</td>\n",
       "    </tr>\n",
       "    <tr>\n",
       "      <th>1</th>\n",
       "      <td>Avengers: Endgame</td>\n",
       "      <td>2019</td>\n",
       "      <td>Action,Adventure,Drama</td>\n",
       "      <td>8.4</td>\n",
       "      <td>181</td>\n",
       "      <td>$858.37M</td>\n",
       "      <td>$2,797,501,328</td>\n",
       "      <td>78</td>\n",
       "      <td>1,108,641</td>\n",
       "      <td>After the devastating events of Avengers: Infi...</td>\n",
       "    </tr>\n",
       "    <tr>\n",
       "      <th>2</th>\n",
       "      <td>Titanic</td>\n",
       "      <td>1997</td>\n",
       "      <td>Drama,Romance</td>\n",
       "      <td>7.9</td>\n",
       "      <td>194</td>\n",
       "      <td>$659.33M</td>\n",
       "      <td>$2,201,647,264</td>\n",
       "      <td>75</td>\n",
       "      <td>1,162,142</td>\n",
       "      <td>A seventeen-year-old aristocrat falls in love ...</td>\n",
       "    </tr>\n",
       "    <tr>\n",
       "      <th>3</th>\n",
       "      <td>Star Wars: Episode VII - The Force Awakens</td>\n",
       "      <td>2015</td>\n",
       "      <td>Action,Adventure,Sci-Fi</td>\n",
       "      <td>7.8</td>\n",
       "      <td>138</td>\n",
       "      <td>$936.66M</td>\n",
       "      <td>$2,069,521,700</td>\n",
       "      <td>80</td>\n",
       "      <td>925,551</td>\n",
       "      <td>As a new threat to the galaxy rises, Rey, a de...</td>\n",
       "    </tr>\n",
       "    <tr>\n",
       "      <th>4</th>\n",
       "      <td>Avengers: Infinity War</td>\n",
       "      <td>2018</td>\n",
       "      <td>Action,Adventure,Sci-Fi</td>\n",
       "      <td>8.4</td>\n",
       "      <td>149</td>\n",
       "      <td>$678.82M</td>\n",
       "      <td>$2,048,359,754</td>\n",
       "      <td>68</td>\n",
       "      <td>1,062,517</td>\n",
       "      <td>The Avengers and their allies must be willing ...</td>\n",
       "    </tr>\n",
       "  </tbody>\n",
       "</table>\n",
       "</div>"
      ],
      "text/plain": [
       "                                  Movie Title Year of Realease  \\\n",
       "0                                      Avatar             2009   \n",
       "1                           Avengers: Endgame             2019   \n",
       "2                                     Titanic             1997   \n",
       "3  Star Wars: Episode VII - The Force Awakens             2015   \n",
       "4                      Avengers: Infinity War             2018   \n",
       "\n",
       "                      Genre  Movie Rating  Duration     Gross  \\\n",
       "0  Action,Adventure,Fantasy           7.8       162  $760.51M   \n",
       "1    Action,Adventure,Drama           8.4       181  $858.37M   \n",
       "2             Drama,Romance           7.9       194  $659.33M   \n",
       "3   Action,Adventure,Sci-Fi           7.8       138  $936.66M   \n",
       "4   Action,Adventure,Sci-Fi           8.4       149  $678.82M   \n",
       "\n",
       "  Worldwide LT Gross Metascore      Votes  \\\n",
       "0     $2,847,397,339        83  1,236,962   \n",
       "1     $2,797,501,328        78  1,108,641   \n",
       "2     $2,201,647,264        75  1,162,142   \n",
       "3     $2,069,521,700        80    925,551   \n",
       "4     $2,048,359,754        68  1,062,517   \n",
       "\n",
       "                                             Logline  \n",
       "0  A paraplegic Marine dispatched to the moon Pan...  \n",
       "1  After the devastating events of Avengers: Infi...  \n",
       "2  A seventeen-year-old aristocrat falls in love ...  \n",
       "3  As a new threat to the galaxy rises, Rey, a de...  \n",
       "4  The Avengers and their allies must be willing ...  "
      ]
     },
     "execution_count": 5,
     "metadata": {},
     "output_type": "execute_result"
    }
   ],
   "source": [
    "# Load the csv file into a pandas DataFrame\n",
    "movies_df = pd.read_csv('Top_1000_Highest_Grossing_Movies_Of_All_Time_.csv')\n",
    "\n",
    "# Display the first 5 rows of the DataFrame\n",
    "movies_df.head()"
   ]
  },
  {
   "cell_type": "markdown",
   "id": "8fc17bdf",
   "metadata": {},
   "source": [
    "П'ять ідей для аналізу:\n",
    "\n",
    "1. Аналіз впливу жанру на прибутковість фільму: Можна дослідити, як жанр фільму впливає на його загальний гросс, а також на його рейтинг. Це може допомогти визначити, які жанри найбільш популярні та прибуткові.\n",
    "\n",
    "2. Кореляція між рейтингом фільму та прибутковістю: Чи є зв'язок між тим, наскільки високо оцінюють фільм користувачі, та його прибутковістю? Чи фільми з високим рейтингом завжди заробляють більше грошей?\n",
    "\n",
    "3. Вплив тривалості фільму на його успіх: Чи є тривалі фільми більш успішними за короткі? Чи впливає тривалість фільму на його рейтинг та прибутковість?\n",
    "\n",
    "4. Аналіз трендів за роками: Як змінювалися популярні жанри, середня тривалість фільму, рейтинги та прибутковість з часом? Чи можна виявити певні тренди в індустрії кіно за останні роки?\n",
    "\n",
    "5. Аналіз впливу Metascore на успіх фільму: Чи впливає Metascore (середня оцінка критиків) на загальний успіх фільму в межах користувачів IMDb та прибутковість фільму? Чи фільми, що критики оцінили високо, завжди отримують високий рейтинг від користувачів?"
   ]
  },
  {
   "cell_type": "markdown",
   "id": "c373fa3c",
   "metadata": {},
   "source": [
    "### 1. Аналіз впливу жанру на прибутковість фільму."
   ]
  },
  {
   "cell_type": "code",
   "execution_count": null,
   "id": "5441bf65",
   "metadata": {},
   "outputs": [],
   "source": []
  }
 ],
 "metadata": {
  "kernelspec": {
   "display_name": "Python 3",
   "language": "python",
   "name": "python3"
  },
  "language_info": {
   "codemirror_mode": {
    "name": "ipython",
    "version": 3
   },
   "file_extension": ".py",
   "mimetype": "text/x-python",
   "name": "python",
   "nbconvert_exporter": "python",
   "pygments_lexer": "ipython3",
   "version": "3.8.8"
  }
 },
 "nbformat": 4,
 "nbformat_minor": 5
}
